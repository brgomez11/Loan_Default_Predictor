{
 "cells": [
  {
   "cell_type": "code",
   "execution_count": 1,
   "metadata": {},
   "outputs": [],
   "source": [
    "import pandas as pd\n",
    "import numpy as np\n",
    "import matplotlib.pyplot as plt\n",
    "import seaborn as sns\n",
    "%matplotlib inline"
   ]
  },
  {
   "cell_type": "code",
   "execution_count": 2,
   "metadata": {},
   "outputs": [],
   "source": [
    "bank_df_train = pd.read_csv('application_train.csv')\n",
    "bank_df_test = pd.read_csv('application_test.csv')"
   ]
  },
  {
   "cell_type": "code",
   "execution_count": null,
   "metadata": {
    "scrolled": false
   },
   "outputs": [],
   "source": [
    "pd.set_option('display.max_columns', None)\n",
    "bank_df_train.head()"
   ]
  },
  {
   "cell_type": "code",
   "execution_count": null,
   "metadata": {
    "scrolled": true
   },
   "outputs": [],
   "source": [
    "bank_df_train.info(verbose=True, null_counts=True)"
   ]
  },
  {
   "cell_type": "code",
   "execution_count": null,
   "metadata": {},
   "outputs": [],
   "source": [
    "bank_df_test.info(verbose=True, null_counts=True)"
   ]
  },
  {
   "cell_type": "markdown",
   "metadata": {},
   "source": [
    "idea for missing data function\n",
    "https://stackoverflow.com/questions/51070985/find-out-the-percentage-of-missing-values-in-each-column-in-the-given-dataset"
   ]
  },
  {
   "cell_type": "code",
   "execution_count": 48,
   "metadata": {},
   "outputs": [],
   "source": [
    "#function for missing data\n",
    "def missing_data(data):\n",
    "    total = data.isnull().sum().sort_values(ascending=False)\n",
    "    percent = (total / data.isnull().count() * 100)\n",
    "    return pd.concat([total, percent], axis=1, keys=['Total', 'Percent'])"
   ]
  },
  {
   "cell_type": "code",
   "execution_count": 49,
   "metadata": {},
   "outputs": [
    {
     "data": {
      "text/html": [
       "<div>\n",
       "<style scoped>\n",
       "    .dataframe tbody tr th:only-of-type {\n",
       "        vertical-align: middle;\n",
       "    }\n",
       "\n",
       "    .dataframe tbody tr th {\n",
       "        vertical-align: top;\n",
       "    }\n",
       "\n",
       "    .dataframe thead th {\n",
       "        text-align: right;\n",
       "    }\n",
       "</style>\n",
       "<table border=\"1\" class=\"dataframe\">\n",
       "  <thead>\n",
       "    <tr style=\"text-align: right;\">\n",
       "      <th></th>\n",
       "      <th>Total</th>\n",
       "      <th>Percent</th>\n",
       "    </tr>\n",
       "  </thead>\n",
       "  <tbody>\n",
       "    <tr>\n",
       "      <th>COMMONAREA_MEDI</th>\n",
       "      <td>214865</td>\n",
       "      <td>69.872297</td>\n",
       "    </tr>\n",
       "    <tr>\n",
       "      <th>COMMONAREA_AVG</th>\n",
       "      <td>214865</td>\n",
       "      <td>69.872297</td>\n",
       "    </tr>\n",
       "    <tr>\n",
       "      <th>COMMONAREA_MODE</th>\n",
       "      <td>214865</td>\n",
       "      <td>69.872297</td>\n",
       "    </tr>\n",
       "    <tr>\n",
       "      <th>NONLIVINGAPARTMENTS_MODE</th>\n",
       "      <td>213514</td>\n",
       "      <td>69.432963</td>\n",
       "    </tr>\n",
       "    <tr>\n",
       "      <th>NONLIVINGAPARTMENTS_MEDI</th>\n",
       "      <td>213514</td>\n",
       "      <td>69.432963</td>\n",
       "    </tr>\n",
       "    <tr>\n",
       "      <th>...</th>\n",
       "      <td>...</td>\n",
       "      <td>...</td>\n",
       "    </tr>\n",
       "    <tr>\n",
       "      <th>REG_CITY_NOT_LIVE_CITY</th>\n",
       "      <td>0</td>\n",
       "      <td>0.000000</td>\n",
       "    </tr>\n",
       "    <tr>\n",
       "      <th>LIVE_REGION_NOT_WORK_REGION</th>\n",
       "      <td>0</td>\n",
       "      <td>0.000000</td>\n",
       "    </tr>\n",
       "    <tr>\n",
       "      <th>REG_REGION_NOT_WORK_REGION</th>\n",
       "      <td>0</td>\n",
       "      <td>0.000000</td>\n",
       "    </tr>\n",
       "    <tr>\n",
       "      <th>HOUR_APPR_PROCESS_START</th>\n",
       "      <td>0</td>\n",
       "      <td>0.000000</td>\n",
       "    </tr>\n",
       "    <tr>\n",
       "      <th>SK_ID_CURR</th>\n",
       "      <td>0</td>\n",
       "      <td>0.000000</td>\n",
       "    </tr>\n",
       "  </tbody>\n",
       "</table>\n",
       "<p>122 rows × 2 columns</p>\n",
       "</div>"
      ],
      "text/plain": [
       "                              Total    Percent\n",
       "COMMONAREA_MEDI              214865  69.872297\n",
       "COMMONAREA_AVG               214865  69.872297\n",
       "COMMONAREA_MODE              214865  69.872297\n",
       "NONLIVINGAPARTMENTS_MODE     213514  69.432963\n",
       "NONLIVINGAPARTMENTS_MEDI     213514  69.432963\n",
       "...                             ...        ...\n",
       "REG_CITY_NOT_LIVE_CITY            0   0.000000\n",
       "LIVE_REGION_NOT_WORK_REGION       0   0.000000\n",
       "REG_REGION_NOT_WORK_REGION        0   0.000000\n",
       "HOUR_APPR_PROCESS_START           0   0.000000\n",
       "SK_ID_CURR                        0   0.000000\n",
       "\n",
       "[122 rows x 2 columns]"
      ]
     },
     "execution_count": 49,
     "metadata": {},
     "output_type": "execute_result"
    }
   ],
   "source": [
    "missing_bank_train = missing_data(bank_df_train)\n",
    "missing_bank_train"
   ]
  },
  {
   "cell_type": "code",
   "execution_count": 5,
   "metadata": {},
   "outputs": [
    {
     "data": {
      "text/html": [
       "<div>\n",
       "<style scoped>\n",
       "    .dataframe tbody tr th:only-of-type {\n",
       "        vertical-align: middle;\n",
       "    }\n",
       "\n",
       "    .dataframe tbody tr th {\n",
       "        vertical-align: top;\n",
       "    }\n",
       "\n",
       "    .dataframe thead th {\n",
       "        text-align: right;\n",
       "    }\n",
       "</style>\n",
       "<table border=\"1\" class=\"dataframe\">\n",
       "  <thead>\n",
       "    <tr style=\"text-align: right;\">\n",
       "      <th></th>\n",
       "      <th>Total</th>\n",
       "      <th>Percent</th>\n",
       "    </tr>\n",
       "  </thead>\n",
       "  <tbody>\n",
       "    <tr>\n",
       "      <th>COMMONAREA_MEDI</th>\n",
       "      <td>33495</td>\n",
       "      <td>68.716150</td>\n",
       "    </tr>\n",
       "    <tr>\n",
       "      <th>COMMONAREA_AVG</th>\n",
       "      <td>33495</td>\n",
       "      <td>68.716150</td>\n",
       "    </tr>\n",
       "    <tr>\n",
       "      <th>COMMONAREA_MODE</th>\n",
       "      <td>33495</td>\n",
       "      <td>68.716150</td>\n",
       "    </tr>\n",
       "    <tr>\n",
       "      <th>NONLIVINGAPARTMENTS_MODE</th>\n",
       "      <td>33347</td>\n",
       "      <td>68.412523</td>\n",
       "    </tr>\n",
       "    <tr>\n",
       "      <th>NONLIVINGAPARTMENTS_MEDI</th>\n",
       "      <td>33347</td>\n",
       "      <td>68.412523</td>\n",
       "    </tr>\n",
       "    <tr>\n",
       "      <th>...</th>\n",
       "      <td>...</td>\n",
       "      <td>...</td>\n",
       "    </tr>\n",
       "    <tr>\n",
       "      <th>REG_CITY_NOT_WORK_CITY</th>\n",
       "      <td>0</td>\n",
       "      <td>0.000000</td>\n",
       "    </tr>\n",
       "    <tr>\n",
       "      <th>REG_CITY_NOT_LIVE_CITY</th>\n",
       "      <td>0</td>\n",
       "      <td>0.000000</td>\n",
       "    </tr>\n",
       "    <tr>\n",
       "      <th>LIVE_REGION_NOT_WORK_REGION</th>\n",
       "      <td>0</td>\n",
       "      <td>0.000000</td>\n",
       "    </tr>\n",
       "    <tr>\n",
       "      <th>REG_REGION_NOT_WORK_REGION</th>\n",
       "      <td>0</td>\n",
       "      <td>0.000000</td>\n",
       "    </tr>\n",
       "    <tr>\n",
       "      <th>SK_ID_CURR</th>\n",
       "      <td>0</td>\n",
       "      <td>0.000000</td>\n",
       "    </tr>\n",
       "  </tbody>\n",
       "</table>\n",
       "<p>121 rows × 2 columns</p>\n",
       "</div>"
      ],
      "text/plain": [
       "                             Total    Percent\n",
       "COMMONAREA_MEDI              33495  68.716150\n",
       "COMMONAREA_AVG               33495  68.716150\n",
       "COMMONAREA_MODE              33495  68.716150\n",
       "NONLIVINGAPARTMENTS_MODE     33347  68.412523\n",
       "NONLIVINGAPARTMENTS_MEDI     33347  68.412523\n",
       "...                            ...        ...\n",
       "REG_CITY_NOT_WORK_CITY           0   0.000000\n",
       "REG_CITY_NOT_LIVE_CITY           0   0.000000\n",
       "LIVE_REGION_NOT_WORK_REGION      0   0.000000\n",
       "REG_REGION_NOT_WORK_REGION       0   0.000000\n",
       "SK_ID_CURR                       0   0.000000\n",
       "\n",
       "[121 rows x 2 columns]"
      ]
     },
     "execution_count": 5,
     "metadata": {},
     "output_type": "execute_result"
    }
   ],
   "source": [
    "missing_bank_test = missing_data(bank_df_test)\n",
    "missing_bank_test"
   ]
  },
  {
   "cell_type": "code",
   "execution_count": 45,
   "metadata": {},
   "outputs": [],
   "source": [
    "clean_data_train = bank_df_train.drop(columns=missing_bank_train[missing_bank_train['Total'] > 5].index)\n",
    "clean_data_test = bank_df_test.drop(columns=missing_bank_test[missing_bank_test['Total'] > 5].index)"
   ]
  },
  {
   "cell_type": "code",
   "execution_count": null,
   "metadata": {},
   "outputs": [],
   "source": [
    "clean_data_train['CNT_FAM_MEMBERS'].describe()"
   ]
  },
  {
   "cell_type": "code",
   "execution_count": null,
   "metadata": {},
   "outputs": [],
   "source": [
    "clean_data_train['DAYS_LAST_PHONE_CHANGE'].describe()"
   ]
  },
  {
   "cell_type": "code",
   "execution_count": 7,
   "metadata": {},
   "outputs": [],
   "source": [
    "clean_data_train.loc[clean_data_train['CNT_FAM_MEMBERS'].isnull(),'CNT_FAM_MEMBERS']=clean_data_train['CNT_FAM_MEMBERS'].mean()\n",
    "clean_data_train.loc[clean_data_train['DAYS_LAST_PHONE_CHANGE'].isnull(),'DAYS_LAST_PHONE_CHANGE']=clean_data_train['DAYS_LAST_PHONE_CHANGE'].mean()"
   ]
  },
  {
   "cell_type": "code",
   "execution_count": 8,
   "metadata": {
    "scrolled": true
   },
   "outputs": [
    {
     "name": "stdout",
     "output_type": "stream",
     "text": [
      "<class 'pandas.core.frame.DataFrame'>\n",
      "RangeIndex: 307511 entries, 0 to 307510\n",
      "Data columns (total 57 columns):\n",
      " #   Column                       Non-Null Count   Dtype  \n",
      "---  ------                       --------------   -----  \n",
      " 0   SK_ID_CURR                   307511 non-null  int64  \n",
      " 1   TARGET                       307511 non-null  int64  \n",
      " 2   NAME_CONTRACT_TYPE           307511 non-null  object \n",
      " 3   CODE_GENDER                  307511 non-null  object \n",
      " 4   FLAG_OWN_CAR                 307511 non-null  object \n",
      " 5   FLAG_OWN_REALTY              307511 non-null  object \n",
      " 6   CNT_CHILDREN                 307511 non-null  int64  \n",
      " 7   AMT_INCOME_TOTAL             307511 non-null  float64\n",
      " 8   AMT_CREDIT                   307511 non-null  float64\n",
      " 9   NAME_INCOME_TYPE             307511 non-null  object \n",
      " 10  NAME_EDUCATION_TYPE          307511 non-null  object \n",
      " 11  NAME_FAMILY_STATUS           307511 non-null  object \n",
      " 12  NAME_HOUSING_TYPE            307511 non-null  object \n",
      " 13  REGION_POPULATION_RELATIVE   307511 non-null  float64\n",
      " 14  DAYS_BIRTH                   307511 non-null  int64  \n",
      " 15  DAYS_EMPLOYED                307511 non-null  int64  \n",
      " 16  DAYS_REGISTRATION            307511 non-null  float64\n",
      " 17  DAYS_ID_PUBLISH              307511 non-null  int64  \n",
      " 18  FLAG_MOBIL                   307511 non-null  int64  \n",
      " 19  FLAG_EMP_PHONE               307511 non-null  int64  \n",
      " 20  FLAG_WORK_PHONE              307511 non-null  int64  \n",
      " 21  FLAG_CONT_MOBILE             307511 non-null  int64  \n",
      " 22  FLAG_PHONE                   307511 non-null  int64  \n",
      " 23  FLAG_EMAIL                   307511 non-null  int64  \n",
      " 24  CNT_FAM_MEMBERS              307511 non-null  float64\n",
      " 25  REGION_RATING_CLIENT         307511 non-null  int64  \n",
      " 26  REGION_RATING_CLIENT_W_CITY  307511 non-null  int64  \n",
      " 27  WEEKDAY_APPR_PROCESS_START   307511 non-null  object \n",
      " 28  HOUR_APPR_PROCESS_START      307511 non-null  int64  \n",
      " 29  REG_REGION_NOT_LIVE_REGION   307511 non-null  int64  \n",
      " 30  REG_REGION_NOT_WORK_REGION   307511 non-null  int64  \n",
      " 31  LIVE_REGION_NOT_WORK_REGION  307511 non-null  int64  \n",
      " 32  REG_CITY_NOT_LIVE_CITY       307511 non-null  int64  \n",
      " 33  REG_CITY_NOT_WORK_CITY       307511 non-null  int64  \n",
      " 34  LIVE_CITY_NOT_WORK_CITY      307511 non-null  int64  \n",
      " 35  ORGANIZATION_TYPE            307511 non-null  object \n",
      " 36  DAYS_LAST_PHONE_CHANGE       307511 non-null  float64\n",
      " 37  FLAG_DOCUMENT_2              307511 non-null  int64  \n",
      " 38  FLAG_DOCUMENT_3              307511 non-null  int64  \n",
      " 39  FLAG_DOCUMENT_4              307511 non-null  int64  \n",
      " 40  FLAG_DOCUMENT_5              307511 non-null  int64  \n",
      " 41  FLAG_DOCUMENT_6              307511 non-null  int64  \n",
      " 42  FLAG_DOCUMENT_7              307511 non-null  int64  \n",
      " 43  FLAG_DOCUMENT_8              307511 non-null  int64  \n",
      " 44  FLAG_DOCUMENT_9              307511 non-null  int64  \n",
      " 45  FLAG_DOCUMENT_10             307511 non-null  int64  \n",
      " 46  FLAG_DOCUMENT_11             307511 non-null  int64  \n",
      " 47  FLAG_DOCUMENT_12             307511 non-null  int64  \n",
      " 48  FLAG_DOCUMENT_13             307511 non-null  int64  \n",
      " 49  FLAG_DOCUMENT_14             307511 non-null  int64  \n",
      " 50  FLAG_DOCUMENT_15             307511 non-null  int64  \n",
      " 51  FLAG_DOCUMENT_16             307511 non-null  int64  \n",
      " 52  FLAG_DOCUMENT_17             307511 non-null  int64  \n",
      " 53  FLAG_DOCUMENT_18             307511 non-null  int64  \n",
      " 54  FLAG_DOCUMENT_19             307511 non-null  int64  \n",
      " 55  FLAG_DOCUMENT_20             307511 non-null  int64  \n",
      " 56  FLAG_DOCUMENT_21             307511 non-null  int64  \n",
      "dtypes: float64(6), int64(41), object(10)\n",
      "memory usage: 133.7+ MB\n"
     ]
    }
   ],
   "source": [
    "clean_data_train.info(verbose=True, null_counts=True)"
   ]
  },
  {
   "cell_type": "code",
   "execution_count": 9,
   "metadata": {},
   "outputs": [
    {
     "name": "stdout",
     "output_type": "stream",
     "text": [
      "<class 'pandas.core.frame.DataFrame'>\n",
      "RangeIndex: 48744 entries, 0 to 48743\n",
      "Data columns (total 57 columns):\n",
      " #   Column                       Non-Null Count  Dtype  \n",
      "---  ------                       --------------  -----  \n",
      " 0   SK_ID_CURR                   48744 non-null  int64  \n",
      " 1   NAME_CONTRACT_TYPE           48744 non-null  object \n",
      " 2   CODE_GENDER                  48744 non-null  object \n",
      " 3   FLAG_OWN_CAR                 48744 non-null  object \n",
      " 4   FLAG_OWN_REALTY              48744 non-null  object \n",
      " 5   CNT_CHILDREN                 48744 non-null  int64  \n",
      " 6   AMT_INCOME_TOTAL             48744 non-null  float64\n",
      " 7   AMT_CREDIT                   48744 non-null  float64\n",
      " 8   AMT_GOODS_PRICE              48744 non-null  float64\n",
      " 9   NAME_INCOME_TYPE             48744 non-null  object \n",
      " 10  NAME_EDUCATION_TYPE          48744 non-null  object \n",
      " 11  NAME_FAMILY_STATUS           48744 non-null  object \n",
      " 12  NAME_HOUSING_TYPE            48744 non-null  object \n",
      " 13  REGION_POPULATION_RELATIVE   48744 non-null  float64\n",
      " 14  DAYS_BIRTH                   48744 non-null  int64  \n",
      " 15  DAYS_EMPLOYED                48744 non-null  int64  \n",
      " 16  DAYS_REGISTRATION            48744 non-null  float64\n",
      " 17  DAYS_ID_PUBLISH              48744 non-null  int64  \n",
      " 18  FLAG_MOBIL                   48744 non-null  int64  \n",
      " 19  FLAG_EMP_PHONE               48744 non-null  int64  \n",
      " 20  FLAG_WORK_PHONE              48744 non-null  int64  \n",
      " 21  FLAG_CONT_MOBILE             48744 non-null  int64  \n",
      " 22  FLAG_PHONE                   48744 non-null  int64  \n",
      " 23  FLAG_EMAIL                   48744 non-null  int64  \n",
      " 24  CNT_FAM_MEMBERS              48744 non-null  float64\n",
      " 25  REGION_RATING_CLIENT         48744 non-null  int64  \n",
      " 26  REGION_RATING_CLIENT_W_CITY  48744 non-null  int64  \n",
      " 27  WEEKDAY_APPR_PROCESS_START   48744 non-null  object \n",
      " 28  HOUR_APPR_PROCESS_START      48744 non-null  int64  \n",
      " 29  REG_REGION_NOT_LIVE_REGION   48744 non-null  int64  \n",
      " 30  REG_REGION_NOT_WORK_REGION   48744 non-null  int64  \n",
      " 31  LIVE_REGION_NOT_WORK_REGION  48744 non-null  int64  \n",
      " 32  REG_CITY_NOT_LIVE_CITY       48744 non-null  int64  \n",
      " 33  REG_CITY_NOT_WORK_CITY       48744 non-null  int64  \n",
      " 34  LIVE_CITY_NOT_WORK_CITY      48744 non-null  int64  \n",
      " 35  ORGANIZATION_TYPE            48744 non-null  object \n",
      " 36  DAYS_LAST_PHONE_CHANGE       48744 non-null  float64\n",
      " 37  FLAG_DOCUMENT_2              48744 non-null  int64  \n",
      " 38  FLAG_DOCUMENT_3              48744 non-null  int64  \n",
      " 39  FLAG_DOCUMENT_4              48744 non-null  int64  \n",
      " 40  FLAG_DOCUMENT_5              48744 non-null  int64  \n",
      " 41  FLAG_DOCUMENT_6              48744 non-null  int64  \n",
      " 42  FLAG_DOCUMENT_7              48744 non-null  int64  \n",
      " 43  FLAG_DOCUMENT_8              48744 non-null  int64  \n",
      " 44  FLAG_DOCUMENT_9              48744 non-null  int64  \n",
      " 45  FLAG_DOCUMENT_10             48744 non-null  int64  \n",
      " 46  FLAG_DOCUMENT_11             48744 non-null  int64  \n",
      " 47  FLAG_DOCUMENT_12             48744 non-null  int64  \n",
      " 48  FLAG_DOCUMENT_13             48744 non-null  int64  \n",
      " 49  FLAG_DOCUMENT_14             48744 non-null  int64  \n",
      " 50  FLAG_DOCUMENT_15             48744 non-null  int64  \n",
      " 51  FLAG_DOCUMENT_16             48744 non-null  int64  \n",
      " 52  FLAG_DOCUMENT_17             48744 non-null  int64  \n",
      " 53  FLAG_DOCUMENT_18             48744 non-null  int64  \n",
      " 54  FLAG_DOCUMENT_19             48744 non-null  int64  \n",
      " 55  FLAG_DOCUMENT_20             48744 non-null  int64  \n",
      " 56  FLAG_DOCUMENT_21             48744 non-null  int64  \n",
      "dtypes: float64(7), int64(40), object(10)\n",
      "memory usage: 21.2+ MB\n"
     ]
    }
   ],
   "source": [
    "clean_data_test.info(verbose=True, null_counts=True)"
   ]
  },
  {
   "cell_type": "code",
   "execution_count": 10,
   "metadata": {
    "scrolled": true
   },
   "outputs": [
    {
     "data": {
      "image/png": "[encoded data removed]",
      "text/plain": [
       "<Figure size 432x432 with 1 Axes>"
      ]
     },
     "metadata": {
      "needs_background": "light"
     },
     "output_type": "display_data"
    }
   ],
   "source": [
    "#checking data unbalance\n",
    "temp = clean_data_train[\"TARGET\"].value_counts()\n",
    "df = pd.DataFrame({'Grouping': temp.index,\n",
    "                   'count': temp.values\n",
    "                  })\n",
    "plt.figure(figsize = (6,6))\n",
    "plt.title('Application loans repayed')\n",
    "sns.barplot(x = 'Grouping', y=\"count\", data=df)\n",
    "locs, labels = plt.xticks(ticks=[0,1], labels=[\"repay\", \"not repay\"])\n",
    "plt.show()"
   ]
  },
  {
   "cell_type": "code",
   "execution_count": null,
   "metadata": {},
   "outputs": [],
   "source": [
    "#Function to create barplot\n",
    "def plot_stats(feature,label_rotation=False):\n",
    "    temp = clean_data_train[feature].value_counts()\n",
    "    df1 = pd.DataFrame({feature: temp.index,'Count': temp.values})\n",
    "    sns.set_color_codes(\"pastel\")\n",
    "    s = sns.barplot(x = feature, y=\"Count\",data=df1)\n",
    "    if(label_rotation):\n",
    "        s.set_xticklabels(s.get_xticklabels(),rotation=90)\n",
    "    plt.tick_params(axis='both', which='major', labelsize=10)\n",
    "    plt.show();"
   ]
  },
  {
   "cell_type": "code",
   "execution_count": null,
   "metadata": {
    "scrolled": true
   },
   "outputs": [],
   "source": [
    "#barplot for Name Contract Type\n",
    "plot_stats('NAME_CONTRACT_TYPE')"
   ]
  },
  {
   "cell_type": "code",
   "execution_count": null,
   "metadata": {
    "scrolled": true
   },
   "outputs": [],
   "source": [
    "#barplot for Name Income Type\n",
    "plot_stats('NAME_INCOME_TYPE',True)"
   ]
  },
  {
   "cell_type": "code",
   "execution_count": null,
   "metadata": {
    "scrolled": true
   },
   "outputs": [],
   "source": [
    "#barplot for Name Family Status\n",
    "plot_stats('NAME_FAMILY_STATUS',True)"
   ]
  },
  {
   "cell_type": "code",
   "execution_count": null,
   "metadata": {
    "scrolled": true
   },
   "outputs": [],
   "source": [
    "#barplot for Name Housing Type\n",
    "plot_stats('NAME_HOUSING_TYPE',True)"
   ]
  },
  {
   "cell_type": "code",
   "execution_count": 11,
   "metadata": {},
   "outputs": [],
   "source": [
    "#dropping sk id curr column\n",
    "clean_data_train.drop(['SK_ID_CURR'],axis=1,inplace=True) \n",
    "clean_data_test.drop(['SK_ID_CURR'],axis=1,inplace=True) "
   ]
  },
  {
   "cell_type": "code",
   "execution_count": 12,
   "metadata": {},
   "outputs": [],
   "source": [
    "from statsmodels.stats.outliers_influence import variance_inflation_factor\n",
    "from sklearn.preprocessing import LabelEncoder\n",
    "encoder = LabelEncoder()"
   ]
  },
  {
   "cell_type": "code",
   "execution_count": 13,
   "metadata": {},
   "outputs": [],
   "source": [
    "#creating dummy variables for categorical features in train dataset\n",
    "#clean_data_train = pd.get_dummies(clean_data_train, columns=['NAME_CONTRACT_TYPE','CODE_GENDER', 'FLAG_OWN_CAR','FLAG_OWN_REALTY','NAME_INCOME_TYPE','NAME_EDUCATION_TYPE','NAME_FAMILY_STATUS','NAME_HOUSING_TYPE','WEEKDAY_APPR_PROCESS_START','ORGANIZATION_TYPE'], drop_first=True)\n",
    "\n",
    "clean_data_train['NAME_CONTRACT_TYPE'] = encoder.fit_transform(clean_data_train['NAME_CONTRACT_TYPE'])\n",
    "clean_data_train['CODE_GENDER'] = encoder.fit_transform(clean_data_train['CODE_GENDER'])\n",
    "clean_data_train['FLAG_OWN_CAR'] = encoder.fit_transform(clean_data_train['FLAG_OWN_CAR'])\n",
    "clean_data_train['FLAG_OWN_REALTY'] = encoder.fit_transform(clean_data_train['FLAG_OWN_REALTY'])\n",
    "clean_data_train['NAME_INCOME_TYPE'] = encoder.fit_transform(clean_data_train['NAME_INCOME_TYPE'])\n",
    "clean_data_train['NAME_EDUCATION_TYPE'] = encoder.fit_transform(clean_data_train['NAME_EDUCATION_TYPE'])\n",
    "clean_data_train['NAME_FAMILY_STATUS'] = encoder.fit_transform(clean_data_train['NAME_FAMILY_STATUS'])\n",
    "clean_data_train['NAME_HOUSING_TYPE'] = encoder.fit_transform(clean_data_train['NAME_HOUSING_TYPE'])\n",
    "clean_data_train['WEEKDAY_APPR_PROCESS_START'] = encoder.fit_transform(clean_data_train['WEEKDAY_APPR_PROCESS_START'])\n",
    "clean_data_train['ORGANIZATION_TYPE'] = encoder.fit_transform(clean_data_train['ORGANIZATION_TYPE'])"
   ]
  },
  {
   "cell_type": "code",
   "execution_count": 14,
   "metadata": {},
   "outputs": [],
   "source": [
    "#creating dummy variables for categorical features in train dataset\n",
    "#clean_data_test = pd.get_dummies(clean_data_test, columns=['NAME_CONTRACT_TYPE','CODE_GENDER', 'FLAG_OWN_CAR','FLAG_OWN_REALTY','NAME_INCOME_TYPE','NAME_EDUCATION_TYPE','NAME_FAMILY_STATUS','NAME_HOUSING_TYPE','WEEKDAY_APPR_PROCESS_START','ORGANIZATION_TYPE'], drop_first=True)\n",
    "\n",
    "clean_data_test['NAME_CONTRACT_TYPE'] = encoder.fit_transform(clean_data_test['NAME_CONTRACT_TYPE'])\n",
    "clean_data_test['CODE_GENDER'] = encoder.fit_transform(clean_data_test['CODE_GENDER'])\n",
    "clean_data_test['FLAG_OWN_CAR'] = encoder.fit_transform(clean_data_test['FLAG_OWN_CAR'])\n",
    "clean_data_test['FLAG_OWN_REALTY'] = encoder.fit_transform(clean_data_test['FLAG_OWN_REALTY'])\n",
    "clean_data_test['NAME_INCOME_TYPE'] = encoder.fit_transform(clean_data_test['NAME_INCOME_TYPE'])\n",
    "clean_data_test['NAME_EDUCATION_TYPE'] = encoder.fit_transform(clean_data_test['NAME_EDUCATION_TYPE'])\n",
    "clean_data_test['NAME_FAMILY_STATUS'] = encoder.fit_transform(clean_data_test['NAME_FAMILY_STATUS'])\n",
    "clean_data_test['NAME_HOUSING_TYPE'] = encoder.fit_transform(clean_data_test['NAME_HOUSING_TYPE'])\n",
    "clean_data_test['WEEKDAY_APPR_PROCESS_START'] = encoder.fit_transform(clean_data_test['WEEKDAY_APPR_PROCESS_START'])\n",
    "clean_data_test['ORGANIZATION_TYPE'] = encoder.fit_transform(clean_data_test['ORGANIZATION_TYPE'])"
   ]
  },
  {
   "cell_type": "code",
   "execution_count": 15,
   "metadata": {},
   "outputs": [],
   "source": [
    "X = clean_data_train.drop(['TARGET'], axis=1)\n",
    "y = clean_data_train['TARGET']\n",
    "#Test dataset doesn't have the target feature\n",
    "#X_test = clean_data_test.drop(['TARGET'], axis=1)\n",
    "#y_test = clean_data_test['TARGET']"
   ]
  },
  {
   "cell_type": "markdown",
   "metadata": {},
   "source": [
    "### Oversampling the unbalanced data"
   ]
  },
  {
   "cell_type": "code",
   "execution_count": 16,
   "metadata": {},
   "outputs": [],
   "source": [
    "from imblearn.over_sampling import SMOTE"
   ]
  },
  {
   "cell_type": "code",
   "execution_count": 17,
   "metadata": {},
   "outputs": [],
   "source": [
    "#Oversampling the data\n",
    "smote = SMOTE(random_state = 101)\n",
    "X, y = smote.fit_resample(clean_data_train[['NAME_CONTRACT_TYPE', 'CODE_GENDER', 'FLAG_OWN_CAR',\n",
    "       'FLAG_OWN_REALTY', 'CNT_CHILDREN', 'AMT_INCOME_TOTAL', 'AMT_CREDIT',\n",
    "       'NAME_INCOME_TYPE', 'NAME_EDUCATION_TYPE', 'NAME_FAMILY_STATUS',\n",
    "       'NAME_HOUSING_TYPE', 'REGION_POPULATION_RELATIVE', 'DAYS_BIRTH',\n",
    "       'DAYS_EMPLOYED', 'DAYS_REGISTRATION', 'DAYS_ID_PUBLISH', 'FLAG_MOBIL',\n",
    "       'FLAG_EMP_PHONE', 'FLAG_WORK_PHONE', 'FLAG_CONT_MOBILE', 'FLAG_PHONE',\n",
    "       'FLAG_EMAIL', 'CNT_FAM_MEMBERS', 'REGION_RATING_CLIENT',\n",
    "       'REGION_RATING_CLIENT_W_CITY', 'WEEKDAY_APPR_PROCESS_START',\n",
    "       'HOUR_APPR_PROCESS_START', 'REG_REGION_NOT_LIVE_REGION',\n",
    "       'REG_REGION_NOT_WORK_REGION', 'LIVE_REGION_NOT_WORK_REGION',\n",
    "       'REG_CITY_NOT_LIVE_CITY', 'REG_CITY_NOT_WORK_CITY',\n",
    "       'LIVE_CITY_NOT_WORK_CITY', 'ORGANIZATION_TYPE',\n",
    "       'DAYS_LAST_PHONE_CHANGE', 'FLAG_DOCUMENT_2', 'FLAG_DOCUMENT_3',\n",
    "       'FLAG_DOCUMENT_4', 'FLAG_DOCUMENT_5', 'FLAG_DOCUMENT_6',\n",
    "       'FLAG_DOCUMENT_7', 'FLAG_DOCUMENT_8', 'FLAG_DOCUMENT_9',\n",
    "       'FLAG_DOCUMENT_10', 'FLAG_DOCUMENT_11', 'FLAG_DOCUMENT_12',\n",
    "       'FLAG_DOCUMENT_13', 'FLAG_DOCUMENT_14', 'FLAG_DOCUMENT_15',\n",
    "       'FLAG_DOCUMENT_16', 'FLAG_DOCUMENT_17', 'FLAG_DOCUMENT_18',\n",
    "       'FLAG_DOCUMENT_19', 'FLAG_DOCUMENT_20', 'FLAG_DOCUMENT_21']], clean_data_train['TARGET'])\n",
    "#Creating a new Oversampling Data Frame\n",
    "df_oversampler = pd.DataFrame(X, columns = ['NAME_CONTRACT_TYPE', 'CODE_GENDER', 'FLAG_OWN_CAR',\n",
    "       'FLAG_OWN_REALTY', 'CNT_CHILDREN', 'AMT_INCOME_TOTAL', 'AMT_CREDIT',\n",
    "       'NAME_INCOME_TYPE', 'NAME_EDUCATION_TYPE', 'NAME_FAMILY_STATUS',\n",
    "       'NAME_HOUSING_TYPE', 'REGION_POPULATION_RELATIVE', 'DAYS_BIRTH',\n",
    "       'DAYS_EMPLOYED', 'DAYS_REGISTRATION', 'DAYS_ID_PUBLISH', 'FLAG_MOBIL',\n",
    "       'FLAG_EMP_PHONE', 'FLAG_WORK_PHONE', 'FLAG_CONT_MOBILE', 'FLAG_PHONE',\n",
    "       'FLAG_EMAIL', 'CNT_FAM_MEMBERS', 'REGION_RATING_CLIENT',\n",
    "       'REGION_RATING_CLIENT_W_CITY', 'WEEKDAY_APPR_PROCESS_START',\n",
    "       'HOUR_APPR_PROCESS_START', 'REG_REGION_NOT_LIVE_REGION',\n",
    "       'REG_REGION_NOT_WORK_REGION', 'LIVE_REGION_NOT_WORK_REGION',\n",
    "       'REG_CITY_NOT_LIVE_CITY', 'REG_CITY_NOT_WORK_CITY',\n",
    "       'LIVE_CITY_NOT_WORK_CITY', 'ORGANIZATION_TYPE',\n",
    "       'DAYS_LAST_PHONE_CHANGE', 'FLAG_DOCUMENT_2', 'FLAG_DOCUMENT_3',\n",
    "       'FLAG_DOCUMENT_4', 'FLAG_DOCUMENT_5', 'FLAG_DOCUMENT_6',\n",
    "       'FLAG_DOCUMENT_7', 'FLAG_DOCUMENT_8', 'FLAG_DOCUMENT_9',\n",
    "       'FLAG_DOCUMENT_10', 'FLAG_DOCUMENT_11', 'FLAG_DOCUMENT_12',\n",
    "       'FLAG_DOCUMENT_13', 'FLAG_DOCUMENT_14', 'FLAG_DOCUMENT_15',\n",
    "       'FLAG_DOCUMENT_16', 'FLAG_DOCUMENT_17', 'FLAG_DOCUMENT_18',\n",
    "       'FLAG_DOCUMENT_19', 'FLAG_DOCUMENT_20', 'FLAG_DOCUMENT_21'])"
   ]
  },
  {
   "cell_type": "code",
   "execution_count": null,
   "metadata": {},
   "outputs": [],
   "source": [
    "df_oversampler"
   ]
  },
  {
   "cell_type": "code",
   "execution_count": null,
   "metadata": {},
   "outputs": [],
   "source": [
    "df_oversampler['TARGET']= y\n",
    "\n",
    "# Balanced data count\n",
    "sns.countplot(df_oversampler['TARGET'])"
   ]
  },
  {
   "cell_type": "markdown",
   "metadata": {},
   "source": [
    "### Scaling"
   ]
  },
  {
   "cell_type": "code",
   "execution_count": 18,
   "metadata": {},
   "outputs": [],
   "source": [
    "from sklearn.model_selection import train_test_split\n",
    "X_train, X_test, y_train, y_test = train_test_split(X,y,test_size=0.3,random_state=101)"
   ]
  },
  {
   "cell_type": "code",
   "execution_count": 19,
   "metadata": {},
   "outputs": [],
   "source": [
    "from sklearn.preprocessing import StandardScaler\n",
    "sc = StandardScaler()\n",
    "X_train_scaled = sc.fit_transform(X_train)\n",
    "X_test_scaled=sc.transform(X_test)"
   ]
  },
  {
   "cell_type": "markdown",
   "metadata": {},
   "source": [
    "### PCA"
   ]
  },
  {
   "cell_type": "code",
   "execution_count": 20,
   "metadata": {},
   "outputs": [
    {
     "data": {
      "text/plain": [
       "array([8.14531451e-02, 5.10844854e-02, 4.28175082e-02, 3.55962760e-02,\n",
       "       3.05215440e-02, 2.87423638e-02, 2.64541962e-02, 2.52255204e-02,\n",
       "       2.46113784e-02, 2.19439074e-02, 2.13841704e-02, 2.00855057e-02,\n",
       "       1.96053691e-02, 1.92597985e-02, 1.90176920e-02, 1.87930926e-02,\n",
       "       1.86397396e-02, 1.85907731e-02, 1.85777006e-02, 1.85469425e-02,\n",
       "       1.85263933e-02, 1.85194505e-02, 1.85177312e-02, 1.84989137e-02,\n",
       "       1.84405870e-02, 1.83384020e-02, 1.82525336e-02, 1.82391805e-02,\n",
       "       1.79782366e-02, 1.78676271e-02, 1.74470004e-02, 1.71086788e-02,\n",
       "       1.67021866e-02, 1.63725832e-02, 1.61006391e-02, 1.58079621e-02,\n",
       "       1.51955992e-02, 1.48228816e-02, 1.44319309e-02, 1.33784113e-02,\n",
       "       1.30288271e-02, 1.29036527e-02, 1.20644725e-02, 1.16691115e-02,\n",
       "       1.14821074e-02, 1.10018962e-02, 8.68043311e-03, 6.39654270e-03,\n",
       "       5.22659339e-03, 2.47413710e-03, 1.41771675e-03, 1.27697461e-03,\n",
       "       8.72674716e-04, 6.82243509e-06, 3.88215945e-33])"
      ]
     },
     "execution_count": 20,
     "metadata": {},
     "output_type": "execute_result"
    }
   ],
   "source": [
    "from sklearn.decomposition import PCA\n",
    "pca = PCA(n_components = None)\n",
    "X_train_pca = pca.fit_transform(X_train_scaled)\n",
    "X_test_pca = pca.transform(X_test_scaled)\n",
    "explained_variance = pca.explained_variance_ratio_\n",
    "explained_variance"
   ]
  },
  {
   "cell_type": "code",
   "execution_count": 21,
   "metadata": {},
   "outputs": [
    {
     "data": {
      "text/plain": [
       "[<matplotlib.lines.Line2D at 0x287db548820>]"
      ]
     },
     "execution_count": 21,
     "metadata": {},
     "output_type": "execute_result"
    },
    {
     "data": {
      "image/png": "[encoded data removed]",
      "text/plain": [
       "<Figure size 432x288 with 1 Axes>"
      ]
     },
     "metadata": {
      "needs_background": "light"
     },
     "output_type": "display_data"
    }
   ],
   "source": [
    "var1=np.cumsum(explained_variance*100)\n",
    "plt.plot(var1,  marker='o')"
   ]
  },
  {
   "cell_type": "code",
   "execution_count": 22,
   "metadata": {},
   "outputs": [],
   "source": [
    "pca = PCA(n_components = 50)\n",
    "X_train50 = pca.fit_transform(X_train_scaled)\n",
    "X_test50 = pca.transform(X_test_scaled)\n",
    "explained_variance = pca.explained_variance_ratio_"
   ]
  },
  {
   "cell_type": "code",
   "execution_count": 23,
   "metadata": {},
   "outputs": [
    {
     "data": {
      "text/plain": [
       "array([0.08145315, 0.05108449, 0.04281751, 0.03559628, 0.03052154,\n",
       "       0.02874236, 0.0264542 , 0.02522552, 0.02461138, 0.02194391,\n",
       "       0.02138417, 0.02008551, 0.01960537, 0.0192598 , 0.01901769,\n",
       "       0.01879309, 0.01863974, 0.01859077, 0.0185777 , 0.01854694,\n",
       "       0.01852639, 0.01851945, 0.01851773, 0.01849891, 0.01844059,\n",
       "       0.0183384 , 0.01825253, 0.01823918, 0.01797824, 0.01786763,\n",
       "       0.017447  , 0.01710868, 0.01670219, 0.01637258, 0.01610064,\n",
       "       0.01580796, 0.0151956 , 0.01482288, 0.01443193, 0.01337841,\n",
       "       0.01302883, 0.01290365, 0.01206447, 0.01166911, 0.01148211,\n",
       "       0.0110019 , 0.00868043, 0.00639654, 0.00522659, 0.00247414])"
      ]
     },
     "execution_count": 23,
     "metadata": {},
     "output_type": "execute_result"
    }
   ],
   "source": [
    "explained_variance"
   ]
  },
  {
   "cell_type": "code",
   "execution_count": 24,
   "metadata": {},
   "outputs": [
    {
     "data": {
      "text/plain": [
       "0.9964258114956693"
      ]
     },
     "execution_count": 24,
     "metadata": {},
     "output_type": "execute_result"
    }
   ],
   "source": [
    "sum(explained_variance)"
   ]
  },
  {
   "cell_type": "markdown",
   "metadata": {},
   "source": [
    "## Logistic Regression "
   ]
  },
  {
   "cell_type": "code",
   "execution_count": null,
   "metadata": {},
   "outputs": [],
   "source": [
    "from sklearn.linear_model import LogisticRegression"
   ]
  },
  {
   "cell_type": "code",
   "execution_count": null,
   "metadata": {},
   "outputs": [],
   "source": [
    "logmodel = LogisticRegression(random_state = 101, multi_class = 'auto')\n",
    "logmodel.fit(X_train50,y_train)"
   ]
  },
  {
   "cell_type": "code",
   "execution_count": null,
   "metadata": {},
   "outputs": [],
   "source": [
    "predictions = logmodel.predict(X_test50)"
   ]
  },
  {
   "cell_type": "markdown",
   "metadata": {},
   "source": [
    "#### Evaluation"
   ]
  },
  {
   "cell_type": "code",
   "execution_count": 36,
   "metadata": {},
   "outputs": [],
   "source": [
    "from sklearn.metrics import classification_report\n",
    "from sklearn.metrics import confusion_matrix"
   ]
  },
  {
   "cell_type": "code",
   "execution_count": null,
   "metadata": {},
   "outputs": [],
   "source": [
    "print(classification_report(y_test,predictions))"
   ]
  },
  {
   "cell_type": "code",
   "execution_count": null,
   "metadata": {},
   "outputs": [],
   "source": [
    "print(confusion_matrix(y_test, predictions))"
   ]
  },
  {
   "cell_type": "code",
   "execution_count": null,
   "metadata": {},
   "outputs": [],
   "source": [
    "from sklearn.pipeline import Pipeline\n",
    "from sklearn.model_selection import GridSearchCV\n",
    "pipe = Pipeline([('scaler', StandardScaler()),\n",
    "                ('pca', PCA()),\n",
    "                ('LR', LogisticRegression(random_state = 101, multi_class = 'auto'))])"
   ]
  },
  {
   "cell_type": "code",
   "execution_count": null,
   "metadata": {},
   "outputs": [],
   "source": [
    "pipe.get_params().keys()"
   ]
  },
  {
   "cell_type": "code",
   "execution_count": null,
   "metadata": {},
   "outputs": [],
   "source": [
    "param_grid = {'pca__n_components':[50], # choose the number of pca components\n",
    "        'LR__solver': ['newton-cg', 'lbfgs', 'liblinear'], 'LR__penalty' : ['l2']}"
   ]
  },
  {
   "cell_type": "code",
   "execution_count": null,
   "metadata": {},
   "outputs": [],
   "source": [
    "grid = GridSearchCV(estimator=pipe,param_grid=param_grid,verbose=3)"
   ]
  },
  {
   "cell_type": "code",
   "execution_count": null,
   "metadata": {},
   "outputs": [],
   "source": [
    "grid.fit(X_train50,y_train)"
   ]
  },
  {
   "cell_type": "code",
   "execution_count": null,
   "metadata": {},
   "outputs": [],
   "source": [
    "grid.best_params_"
   ]
  },
  {
   "cell_type": "code",
   "execution_count": null,
   "metadata": {},
   "outputs": [],
   "source": [
    "grid_predictions = grid.predict(X_test50)"
   ]
  },
  {
   "cell_type": "code",
   "execution_count": null,
   "metadata": {},
   "outputs": [],
   "source": [
    "print(confusion_matrix(y_test,grid_predictions))"
   ]
  },
  {
   "cell_type": "code",
   "execution_count": null,
   "metadata": {},
   "outputs": [],
   "source": [
    "print(classification_report(y_test,grid_predictions))"
   ]
  },
  {
   "cell_type": "markdown",
   "metadata": {},
   "source": [
    "### Neural Network"
   ]
  },
  {
   "cell_type": "code",
   "execution_count": null,
   "metadata": {},
   "outputs": [],
   "source": [
    "import warnings\n",
    "warnings.filterwarnings('ignore')\n",
    "from keras.layers import Dense, Input, Dropout\n",
    "from keras import Sequential\n",
    "from keras.wrappers.scikit_learn import KerasClassifier\n",
    "from sklearn.model_selection import StratifiedKFold"
   ]
  },
  {
   "cell_type": "code",
   "execution_count": null,
   "metadata": {},
   "outputs": [],
   "source": [
    "def create_model():\n",
    "    classifier = Sequential()\n",
    "    # adding 50 input PCAs, 25 nodes in the hidden layer\n",
    "    classifier.add(Dense(input_dim=50,units=25,activation=\"relu\"))\n",
    "    #adding an additional hidden layer\n",
    "    classifier.add(Dense(units=25, activation=\"relu\" ))\n",
    "    #adding the output layer with sigmoid function\n",
    "    classifier.add(Dense(units=1, activation=\"sigmoid\"))\n",
    "    classifier.compile(optimizer=\"adam\", loss=\"binary_crossentropy\", metrics=[\"accuracy\"])\n",
    "    return classifier"
   ]
  },
  {
   "cell_type": "code",
   "execution_count": null,
   "metadata": {},
   "outputs": [],
   "source": [
    "#batch_size = [10, 100, 500]\n",
    "#epochs = [10, 50, 100]\n",
    "#tried GridSearch with the above parameter which took hours to complete. \n",
    "#Therefore, reducing the size of the parameter grid\n",
    "#in order to capture the highest performing parameters\n",
    "\n",
    "batch_size = [10]\n",
    "epochs = [10, 100]\n",
    "param_grid = dict(nn__batch_size=batch_size, nn__epochs=epochs)"
   ]
  },
  {
   "cell_type": "code",
   "execution_count": null,
   "metadata": {},
   "outputs": [],
   "source": [
    "estimators = []\n",
    "#estimators.append(('ss', StandardScaler()))\n",
    "#estimators.append(('pca', PCA()))\n",
    "estimators.append(('nn', KerasClassifier(build_fn=create_model, verbose=3)))\n",
    "nn_pipe = Pipeline(estimators)"
   ]
  },
  {
   "cell_type": "code",
   "execution_count": null,
   "metadata": {},
   "outputs": [],
   "source": [
    "nn_pipe.get_params().keys()"
   ]
  },
  {
   "cell_type": "code",
   "execution_count": null,
   "metadata": {},
   "outputs": [],
   "source": [
    "gs_nn = GridSearchCV(nn_pipe,param_grid,verbose=3)"
   ]
  },
  {
   "cell_type": "code",
   "execution_count": null,
   "metadata": {},
   "outputs": [],
   "source": [
    "gs_nn.fit(X_train50,y_train)\n",
    "\n",
    "# IT WOULD TAKE UPTO 2-3 HOURS"
   ]
  },
  {
   "cell_type": "code",
   "execution_count": null,
   "metadata": {},
   "outputs": [],
   "source": [
    "gs_nn.best_params_"
   ]
  },
  {
   "cell_type": "code",
   "execution_count": null,
   "metadata": {},
   "outputs": [],
   "source": [
    "y_pred = gs_nn.predict(X_test50)"
   ]
  },
  {
   "cell_type": "code",
   "execution_count": null,
   "metadata": {},
   "outputs": [],
   "source": [
    "y_pred = (y_pred>0.5)"
   ]
  },
  {
   "cell_type": "code",
   "execution_count": null,
   "metadata": {},
   "outputs": [],
   "source": [
    "y_pred"
   ]
  },
  {
   "cell_type": "markdown",
   "metadata": {},
   "source": [
    "#### Evaluation"
   ]
  },
  {
   "cell_type": "code",
   "execution_count": null,
   "metadata": {},
   "outputs": [],
   "source": [
    "cm = confusion_matrix(y_test,y_pred)"
   ]
  },
  {
   "cell_type": "code",
   "execution_count": null,
   "metadata": {},
   "outputs": [],
   "source": [
    "cm"
   ]
  },
  {
   "cell_type": "code",
   "execution_count": null,
   "metadata": {},
   "outputs": [],
   "source": [
    "print(classification_report(y_test,y_pred))"
   ]
  },
  {
   "cell_type": "markdown",
   "metadata": {},
   "source": [
    "## Random Forest Classification Model"
   ]
  },
  {
   "cell_type": "code",
   "execution_count": 25,
   "metadata": {},
   "outputs": [],
   "source": [
    "import warnings\n",
    "from sklearn.ensemble import RandomForestClassifier\n",
    "#from sklearn.model_selection import validation_curve"
   ]
  },
  {
   "cell_type": "code",
   "execution_count": 29,
   "metadata": {},
   "outputs": [],
   "source": [
    "model = RandomForestClassifier(random_state=101)"
   ]
  },
  {
   "cell_type": "code",
   "execution_count": 30,
   "metadata": {},
   "outputs": [],
   "source": [
    "param_grid = {\"n_estimators\": [10, 50, 100]} "
   ]
  },
  {
   "cell_type": "code",
   "execution_count": 31,
   "metadata": {},
   "outputs": [],
   "source": [
    "from sklearn.model_selection import GridSearchCV"
   ]
  },
  {
   "cell_type": "code",
   "execution_count": 32,
   "metadata": {},
   "outputs": [],
   "source": [
    "grid_forest = GridSearchCV(model,param_grid,verbose=3)"
   ]
  },
  {
   "cell_type": "code",
   "execution_count": 33,
   "metadata": {},
   "outputs": [
    {
     "name": "stdout",
     "output_type": "stream",
     "text": [
      "Fitting 5 folds for each of 3 candidates, totalling 15 fits\n",
      "[CV 1/5] END ................................n_estimators=10; total time=  50.6s\n",
      "[CV 2/5] END ................................n_estimators=10; total time=  48.5s\n",
      "[CV 3/5] END ................................n_estimators=10; total time=  50.6s\n",
      "[CV 4/5] END ................................n_estimators=10; total time=  51.1s\n",
      "[CV 5/5] END ................................n_estimators=10; total time=  51.8s\n",
      "[CV 1/5] END ................................n_estimators=50; total time= 4.7min\n",
      "[CV 2/5] END ................................n_estimators=50; total time= 4.2min\n",
      "[CV 3/5] END ................................n_estimators=50; total time= 4.3min\n",
      "[CV 4/5] END ................................n_estimators=50; total time= 4.2min\n",
      "[CV 5/5] END ................................n_estimators=50; total time= 4.4min\n",
      "[CV 1/5] END ...............................n_estimators=100; total time= 9.3min\n",
      "[CV 2/5] END ...............................n_estimators=100; total time= 8.9min\n",
      "[CV 3/5] END ...............................n_estimators=100; total time= 9.0min\n",
      "[CV 4/5] END ...............................n_estimators=100; total time= 8.3min\n",
      "[CV 5/5] END ...............................n_estimators=100; total time= 9.3min\n"
     ]
    },
    {
     "data": {
      "text/plain": [
       "GridSearchCV(estimator=RandomForestClassifier(random_state=101),\n",
       "             param_grid={'n_estimators': [10, 50, 100]}, verbose=3)"
      ]
     },
     "execution_count": 33,
     "metadata": {},
     "output_type": "execute_result"
    }
   ],
   "source": [
    "grid_forest.fit(X_train50,y_train)"
   ]
  },
  {
   "cell_type": "code",
   "execution_count": 34,
   "metadata": {
    "scrolled": true
   },
   "outputs": [
    {
     "data": {
      "text/plain": [
       "{'n_estimators': 100}"
      ]
     },
     "execution_count": 34,
     "metadata": {},
     "output_type": "execute_result"
    }
   ],
   "source": [
    "grid_forest.best_params_"
   ]
  },
  {
   "cell_type": "code",
   "execution_count": 35,
   "metadata": {},
   "outputs": [],
   "source": [
    "predictions = grid_forest.predict(X_test50)"
   ]
  },
  {
   "cell_type": "code",
   "execution_count": 38,
   "metadata": {},
   "outputs": [
    {
     "name": "stdout",
     "output_type": "stream",
     "text": [
      "[[76875  8085]\n",
      " [12345 72307]]\n"
     ]
    }
   ],
   "source": [
    "print(confusion_matrix(y_test, predictions))"
   ]
  },
  {
   "cell_type": "code",
   "execution_count": 37,
   "metadata": {},
   "outputs": [
    {
     "name": "stdout",
     "output_type": "stream",
     "text": [
      "              precision    recall  f1-score   support\n",
      "\n",
      "           0       0.86      0.90      0.88     84960\n",
      "           1       0.90      0.85      0.88     84652\n",
      "\n",
      "    accuracy                           0.88    169612\n",
      "   macro avg       0.88      0.88      0.88    169612\n",
      "weighted avg       0.88      0.88      0.88    169612\n",
      "\n"
     ]
    }
   ],
   "source": [
    "print(classification_report(y_test,predictions))"
   ]
  }
 ],
 "metadata": {
  "kernelspec": {
   "display_name": "Python 3",
   "language": "python",
   "name": "python3"
  },
  "language_info": {
   "codemirror_mode": {
    "name": "ipython",
    "version": 3
   },
   "file_extension": ".py",
   "mimetype": "text/x-python",
   "name": "python",
   "nbconvert_exporter": "python",
   "pygments_lexer": "ipython3",
   "version": "3.8.5"
  }
 },
 "nbformat": 4,
 "nbformat_minor": 4
}
